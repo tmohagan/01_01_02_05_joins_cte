{
 "cells": [
  {
   "cell_type": "markdown",
   "metadata": {},
   "source": [
    "What are the three longest trips on rainy days?"
   ]
  },
  {
   "cell_type": "markdown",
   "metadata": {},
   "source": [
    "WITH rainy as \n",
    "(\n",
    "SELECT \n",
    "    DATE(date) rain_date\n",
    "From weather\n",
    "WHERE events = 'Rain'\n",
    "GROUP BY 1\n",
    ") \n",
    "\n",
    "SELECT\n",
    "    t.trip_id,\n",
    "    t.duration,\n",
    "    DATE(t.start_date)\n",
    "FROM trips t\n",
    "JOIN rainy r\n",
    "on DATE(t.start_date) = r.rain_date\n",
    "ORDER BY duration DESC\n",
    "LIMIT 3"
   ]
  },
  {
   "cell_type": "markdown",
   "metadata": {},
   "source": [
    "Which station is full most often?"
   ]
  },
  {
   "cell_type": "markdown",
   "metadata": {},
   "source": [
    "SELECT\n",
    "    status.station_id,\n",
    "    stations.name,\n",
    "    COUNT(CASE WHEN docks_available=0 then 1 END) empty_count\n",
    "FROM status\n",
    "JOIN stations\n",
    "on stations.station_id = status.station_id\n",
    "GROUP BY 1,2\n",
    "ORDER BY empty_count DESC"
   ]
  },
  {
   "cell_type": "markdown",
   "metadata": {},
   "source": [
    "Return a list of stations with a count of number of trips starting at that station but ordered by dock count."
   ]
  },
  {
   "cell_type": "markdown",
   "metadata": {},
   "source": [
    "SELECT\n",
    "    start_station,\n",
    "    dockcount,\n",
    "    COUNT(*)\n",
    "FROM trips\n",
    "JOIN stations\n",
    "ON stations.name=trips.start_station\n",
    "GROUP BY 1, 2\n",
    "ORDER BY 2 DESC"
   ]
  },
  {
   "cell_type": "markdown",
   "metadata": {},
   "source": [
    "(Challenge) What's the length of the longest trip for each day it rains anywhere?"
   ]
  },
  {
   "cell_type": "markdown",
   "metadata": {},
   "source": [
    "WITH rainy as \n",
    "(\n",
    "SELECT \n",
    "    DATE(date) weather_date\n",
    "FROM weather\n",
    "WHERE events = 'Rain'\n",
    "GROUP BY 1\n",
    "),\n",
    "rain_trips as (\n",
    "SELECT\n",
    "    trip_id,\n",
    "    duration,\n",
    "    DATE(trips.start_date) rain_trips_date\n",
    "FROM trips\n",
    "JOIN rainy\n",
    "on rainy.weather_date = DATE(trips.start_date)\n",
    "ORDER BY duration DESC\n",
    ")\n",
    "SELECT \n",
    "    rain_trips_date,\n",
    "    max(duration) max_duration\n",
    "FROM rain_trips\n",
    "GROUP BY 1\n",
    "ORDER BY max_duration DESC"
   ]
  },
  {
   "cell_type": "markdown",
   "metadata": {},
   "source": [
    "By default, SQL will perform an inner join. This means that the rows returned will have a successful join between the tables. \n",
    "\n",
    "If there is no match between the given columns, the rows will not be returned."
   ]
  },
  {
   "cell_type": "markdown",
   "metadata": {},
   "source": [
    " let's join the station and trip tables to return the latitude and longitude for the start station for every trip, along with the trip id.\n",
    " \n",
    " SELECT\n",
    "    trips.trip_id,\n",
    "    trips.start_station,\n",
    "    stations.lat,\n",
    "    stations.long\n",
    "FROM\n",
    "    trips \n",
    "JOIN\n",
    "    stations\n",
    "ON\n",
    "    trips.start_station = stations.name;"
   ]
  },
  {
   "cell_type": "markdown",
   "metadata": {},
   "source": [
    "Let's rewrite the query above to demonstrate table aliases, a commonly used SQL feature. This query is exactly the same:\n",
    "\n",
    "SELECT\n",
    "    t.trip_id,\n",
    "    t.start_station,\n",
    "    s.lat,\n",
    "    s.long\n",
    "FROM\n",
    "    trips t\n",
    "JOIN\n",
    "    stations s\n",
    "ON\n",
    "    t.start_station = s.name;"
   ]
  },
  {
   "cell_type": "markdown",
   "metadata": {},
   "source": [
    "by default, SQL will perform an inner join\n",
    "\n",
    "rows are only returned when there is a match on both sides, it doesn't matter which table is on the left and which table is on the right."
   ]
  },
  {
   "cell_type": "markdown",
   "metadata": {},
   "source": [
    "there are also three types of outer joins: left outer joins, right outer joins, and full outer joins.\n",
    "\n",
    "In a left outer join every row from the left table will be included in your output, even if there was no matching row on the right table.\n",
    "Rows without a match will be filled with NULL for the columns from the right table.\n",
    "Left outer joins are often called just \"left joins\", and you can perform a left join using LEFT OUTER JOIN or just LEFT JOIN.\n",
    "\n",
    "A right outer join, or \"right join\" is exactly the same as a left join, except that all the rows from the right table are returned, even if there is no match. \n",
    "Because the only difference is table order, you could reverse the left and right tables and use a left join instead to accomplish the same thing. \n",
    "\n",
    "A full outer join, also known as a \"full join\" or just an \"outer join\" returns all matching records from both the left and right tables. This can potentially return very large data sets,"
   ]
  },
  {
   "cell_type": "markdown",
   "metadata": {},
   "source": [
    "CTEs (common table expressions)\n",
    "\n",
    "the result of every SQL query is itself a table\n",
    "\n",
    "That means you can use joins not just to join tables on existing tables, but also to join them on the results of other queries\n",
    "\n",
    "One way to do that is to use common table expressions, or CTE's"
   ]
  },
  {
   "cell_type": "markdown",
   "metadata": {},
   "source": [
    "Recall before when we generated the average latitude and longitude of every city. What if we wanted to also include a count of the number of trips that started in each of those cities?\n",
    "\n",
    "if we tried to do this through a single query we might try something like this:\n",
    "\n",
    "SELECT\n",
    "    s.city,\n",
    "    AVG(s.lat) lat,\n",
    "    AVG(s.long) long,\n",
    "    COUNT(*)\n",
    "FROM\n",
    "    stations s\n",
    "JOIN\n",
    "    trips t\n",
    "ON\n",
    "    t.start_station = s.name \n",
    "GROUP BY 1;\n",
    "\n",
    "this query is actually incorrect. \n",
    "\n",
    "When working with JOINs, the join happens before any aggregate functions.\n",
    "\n",
    "This does not take the average lat/long for every station.  It takes the average for every trip.\n",
    "We don't want the average of the joined data, instead we want to get the average and then join the data."
   ]
  },
  {
   "cell_type": "markdown",
   "metadata": {},
   "source": [
    "CTE's start with the form WITH __expression__ as (...)\n",
    "\n",
    "This will create another, intermediate table for you to work with and join on. "
   ]
  },
  {
   "cell_type": "markdown",
   "metadata": {},
   "source": [
    "-- Set up the CTE to create a \"locations\" table.\n",
    "WITH\n",
    "    locations\n",
    "AS (\n",
    "    -- A simple query to get the averages of lat and long on a city level.\n",
    "    SELECT\n",
    "        city,\n",
    "        AVG(lat) lat,\n",
    "        AVG(long) long\n",
    "    FROM\n",
    "        stations\n",
    "    GROUP BY 1\n",
    ")\n",
    "\n",
    "-- Joining the locations table we created with the trips table to count trips.\n",
    "SELECT\n",
    "    l.city,\n",
    "    l.lat,\n",
    "    l.long,\n",
    "    COUNT(*)\n",
    "FROM\n",
    "    locations l\n",
    "\n",
    "-- We need an intermediate join to go from locations to stations \n",
    "-- because the trips table does not have a \"city\" column.\n",
    "JOIN\n",
    "    stations s\n",
    "ON\n",
    "    l.city = s.city\n",
    "JOIN\n",
    "    trips t\n",
    "ON\n",
    "    t.start_station = s.name\n",
    "GROUP BY 1,2,3;"
   ]
  },
  {
   "cell_type": "markdown",
   "metadata": {},
   "source": [
    "Firstly, the CTE, locations, groups stations by city name to find the average of the coordinates. \n",
    "\n",
    " You are then creating a new temporary locations table with an entry for lat and long for each city. \n",
    " \n",
    " Then we want to join the location table with the trips table.\n",
    " \n",
    " But trips does not have a city column to use as a key to join with location.\n",
    " \n",
    " instead, location has a city\n",
    " station has a city\n",
    " stations has a name\n",
    " trip has a start station name\n",
    " \n",
    " so connect locations to station by city name\n",
    " then connect station to trips by station name\n",
    " \n",
    " this creates a connection from location to trip\n",
    " \n",
    " location has the average lat/long of each station\n",
    " and that can link to each trip\n",
    " without taking the average lat/long for each trip"
   ]
  },
  {
   "cell_type": "markdown",
   "metadata": {},
   "source": [
    "CASE statements allow you to set up conditions and then take action in a column based on them\n",
    "\n",
    "It is also common to combine CASE statements with COUNT to do conditional counts.\n",
    "\n",
    "he most common form for case statements is \n",
    "CASE WHEN __condition__ THEN __value__ ELSE __value__ END"
   ]
  },
  {
   "cell_type": "markdown",
   "metadata": {},
   "source": [
    "SELECT\n",
    "    (CASE WHEN dockcount > 20 THEN 'large' ELSE 'small' END) station_size,\n",
    "    COUNT(*) as station_count\n",
    "FROM \n",
    "    stations\n",
    "GROUP BY 1;"
   ]
  },
  {
   "cell_type": "markdown",
   "metadata": {},
   "source": [
    "This CASE statement looks at the stations table and labels each row either 'large' or 'small' depending on the value of dockcount for that row, and then counts how many rows there are for each case.\n",
    "\n",
    "The group by statement makes it so we are counting based on the station size."
   ]
  },
  {
   "cell_type": "markdown",
   "metadata": {},
   "source": []
  },
  {
   "cell_type": "markdown",
   "metadata": {},
   "source": []
  }
 ],
 "metadata": {
  "kernelspec": {
   "display_name": "Python 3",
   "language": "python",
   "name": "python3"
  },
  "language_info": {
   "codemirror_mode": {
    "name": "ipython",
    "version": 3
   },
   "file_extension": ".py",
   "mimetype": "text/x-python",
   "name": "python",
   "nbconvert_exporter": "python",
   "pygments_lexer": "ipython3",
   "version": "3.6.5"
  }
 },
 "nbformat": 4,
 "nbformat_minor": 2
}
